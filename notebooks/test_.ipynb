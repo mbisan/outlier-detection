{
 "cells": [
  {
   "cell_type": "code",
   "execution_count": 2,
   "metadata": {},
   "outputs": [],
   "source": [
    "import os\n",
    "from typing import Tuple\n",
    "import numpy as np\n",
    "import torch\n",
    "from torch.utils.data import Dataset\n",
    "from torchvision.io.image import read_image\n",
    "from torchvision.transforms import v2\n",
    "import matplotlib.pyplot as plt\n",
    "from data.shift_dataset import pedestrian_filter_10_15k, no_pedestrian_filter\n",
    "from utils.helper_functions import ShiftOODDataModule\n",
    "from data.coco_dataset import COCODataset, USED_CATEGORIES"
   ]
  },
  {
   "cell_type": "code",
   "execution_count": 11,
   "metadata": {},
   "outputs": [],
   "source": [
    "loaded = np.load(\"pretrained/shift_weights.means\")"
   ]
  },
  {
   "cell_type": "code",
   "execution_count": 12,
   "metadata": {},
   "outputs": [
    {
     "name": "stdout",
     "output_type": "stream",
     "text": [
      "[ -4.42602634   0.           0.          -8.04378319 -12.30721378\n",
      " -12.98507118   0.          -9.16855145 -12.57613277  -9.5011425\n",
      " -10.67259598 -12.43911266   0.           0.           0.\n",
      " -11.09456539   0.           0.           0.           0.\n",
      "  -8.6271801 ]\n"
     ]
    }
   ],
   "source": [
    "print(loaded)"
   ]
  },
  {
   "cell_type": "code",
   "execution_count": 10,
   "metadata": {},
   "outputs": [
    {
     "data": {
      "text/plain": [
       "14"
      ]
     },
     "execution_count": 10,
     "metadata": {},
     "output_type": "execute_result"
    }
   ],
   "source": [
    "loaded[\"model.classifier.classifier.3.weight\"].shape[0]"
   ]
  }
 ],
 "metadata": {
  "kernelspec": {
   "display_name": "Python 3",
   "language": "python",
   "name": "python3"
  },
  "language_info": {
   "codemirror_mode": {
    "name": "ipython",
    "version": 3
   },
   "file_extension": ".py",
   "mimetype": "text/x-python",
   "name": "python",
   "nbconvert_exporter": "python",
   "pygments_lexer": "ipython3",
   "version": "3.10.13"
  }
 },
 "nbformat": 4,
 "nbformat_minor": 2
}
