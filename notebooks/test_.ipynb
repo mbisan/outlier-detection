{
 "cells": [
  {
   "cell_type": "code",
   "execution_count": 1,
   "metadata": {},
   "outputs": [],
   "source": [
    "import os\n",
    "from typing import Tuple\n",
    "import numpy as np\n",
    "import torch\n",
    "from torch.utils.data import Dataset\n",
    "from torchvision.io.image import read_image\n",
    "from torchvision.transforms import v2\n",
    "import matplotlib.pyplot as plt\n",
    "from utils.helper_functions import ShiftOODDataModule\n",
    "from data.shift_dataset import pedestrian_filter_10_15k, no_pedestrian_filter"
   ]
  },
  {
   "cell_type": "code",
   "execution_count": 2,
   "metadata": {},
   "outputs": [
    {
     "name": "stdout",
     "output_type": "stream",
     "text": [
      "loading annotations into memory...\n",
      "Done (t=3.05s)\n",
      "creating index...\n",
      "index created!\n"
     ]
    }
   ],
   "source": [
    "dm = ShiftOODDataModule(\"./datasets/SHIFT\", 400, \"./datasets/COCO2014\", 200, 16, no_pedestrian_filter, pedestrian_filter_10_15k, \"ood_pedestrian\")"
   ]
  },
  {
   "cell_type": "code",
   "execution_count": 3,
   "metadata": {},
   "outputs": [],
   "source": [
    "from nets.wrapperood import WrapperOod\n",
    "from nets.wrapper import Wrapper"
   ]
  },
  {
   "cell_type": "code",
   "execution_count": 5,
   "metadata": {},
   "outputs": [],
   "source": [
    "loaded = torch.load(\"test_shift/lightning_logs/version_0/checkpoints/epoch=49-step=68350-val_miou=0.8422.ckpt\")"
   ]
  },
  {
   "cell_type": "code",
   "execution_count": 9,
   "metadata": {},
   "outputs": [
    {
     "name": "stderr",
     "output_type": "stream",
     "text": [
      "/home/martin/outlier-detection/.conda/lib/python3.10/site-packages/pytorch_lightning/utilities/migration/utils.py:56: The loaded checkpoint was produced with Lightning v2.2.2, which is newer than your current Lightning version: v2.2.1\n"
     ]
    }
   ],
   "source": [
    "model = WrapperOod.load_from_checkpoint(\n",
    "    checkpoint_path=\"test_shift/lightning_logs/version_0/checkpoints/epoch=49-step=68350-val_miou=0.8422.ckpt\",\n",
    "    backbone = \"resnet50\",\n",
    "    num_classes = 22,\n",
    "    lr = .001,\n",
    "    beta = .0001,\n",
    "    )"
   ]
  }
 ],
 "metadata": {
  "kernelspec": {
   "display_name": "Python 3",
   "language": "python",
   "name": "python3"
  },
  "language_info": {
   "codemirror_mode": {
    "name": "ipython",
    "version": 3
   },
   "file_extension": ".py",
   "mimetype": "text/x-python",
   "name": "python",
   "nbconvert_exporter": "python",
   "pygments_lexer": "ipython3",
   "version": "3.10.14"
  }
 },
 "nbformat": 4,
 "nbformat_minor": 2
}
