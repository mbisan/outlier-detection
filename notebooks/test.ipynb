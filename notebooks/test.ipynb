{
 "cells": [
  {
   "cell_type": "code",
   "execution_count": 1,
   "metadata": {},
   "outputs": [],
   "source": [
    "import os\n",
    "from typing import Tuple\n",
    "import numpy as np\n",
    "import torch\n",
    "from torch.utils.data import Dataset\n",
    "from torchvision.io.image import read_image\n",
    "from torchvision.transforms import v2\n",
    "import matplotlib.pyplot as plt\n",
    "from data.utils import walk_path"
   ]
  },
  {
   "cell_type": "code",
   "execution_count": 2,
   "metadata": {},
   "outputs": [],
   "source": [
    "from utils.helper_functions import StreetHazardsDataModule, ShiftSegmentationDataModule, ShiftOODDataModule, StreetHazardsOODDataModule\n",
    "from data.shift_dataset import LabelFilter, pedestrian_filter_10_15k, no_pedestrian_filter"
   ]
  },
  {
   "cell_type": "code",
   "execution_count": 3,
   "metadata": {},
   "outputs": [],
   "source": [
    "from pytorch_lightning import Trainer\n",
    "from pytorch_lightning.callbacks import ModelCheckpoint, LearningRateMonitor, TQDMProgressBar\n",
    "from nets.wrapper import Wrapper"
   ]
  },
  {
   "cell_type": "code",
   "execution_count": 4,
   "metadata": {},
   "outputs": [],
   "source": [
    "loaded = torch.load(\"pretrained/sh_weights.ckpt\")"
   ]
  },
  {
   "cell_type": "code",
   "execution_count": 5,
   "metadata": {},
   "outputs": [
    {
     "data": {
      "text/plain": [
       "<All keys matched successfully>"
      ]
     },
     "execution_count": 5,
     "metadata": {},
     "output_type": "execute_result"
    }
   ],
   "source": [
    "model = Wrapper(\"resnet50\", 14)\n",
    "\n",
    "model.load_state_dict(state_dict=loaded)"
   ]
  },
  {
   "cell_type": "code",
   "execution_count": 6,
   "metadata": {},
   "outputs": [],
   "source": [
    "def load_dataset(\n",
    "        dataset_name, dataset_dir=\"./datasets\",\n",
    "        horizon=0, alpha_blend=1, histogram_matching=False, blur=0):\n",
    "    if dataset_name == \"SHIFT\":\n",
    "        return ShiftOODDataModule(\n",
    "            os.path.join(dataset_dir, \"SHIFT\"), 512,\n",
    "            os.path.join(dataset_dir, \"COCO2014\"), 352, 8,\n",
    "            no_pedestrian_filter, pedestrian_filter_10_15k,\n",
    "            \"ood_pedestrian\",\n",
    "            horizon=horizon,\n",
    "            alpha_blend=alpha_blend,\n",
    "            histogram_matching=histogram_matching,\n",
    "            blur=blur,\n",
    "            num_workers=8, val_amount=.05\n",
    "        )\n",
    "    elif dataset_name == \"StreetHazards\":\n",
    "        return StreetHazardsOODDataModule(\n",
    "            os.path.join(dataset_dir, \"StreetHazards\"), 512,\n",
    "            os.path.join(dataset_dir, \"COCO2014\"), 352, 8,\n",
    "            \"normal\",\n",
    "            horizon=horizon,\n",
    "            alpha_blend=alpha_blend,\n",
    "            histogram_matching=histogram_matching,\n",
    "            blur=blur,\n",
    "            num_workers=8\n",
    "        )\n",
    "\n",
    "    return None"
   ]
  },
  {
   "cell_type": "code",
   "execution_count": 7,
   "metadata": {},
   "outputs": [
    {
     "name": "stdout",
     "output_type": "stream",
     "text": [
      "loading annotations into memory...\n",
      "Done (t=3.21s)\n",
      "creating index...\n",
      "index created!\n"
     ]
    }
   ],
   "source": [
    "# dm = StreetHazardsDataModule(\n",
    "#     \"./datasets/StreetHazards\", 512, 8, \"normal\", 8)\n",
    "\n",
    "# dm = ShiftSegmentationDataModule(\n",
    "#     \"./datasets/SHIFT\", 512, 4, LabelFilter(\"4\", -1, 0), LabelFilter(\"4\", -1, 0), \"ood_pedestrian\", 8, .05)\n",
    "\n",
    "dm = load_dataset(\"StreetHazards\")"
   ]
  },
  {
   "cell_type": "code",
   "execution_count": 8,
   "metadata": {},
   "outputs": [
    {
     "name": "stderr",
     "output_type": "stream",
     "text": [
      "GPU available: True (cuda), used: True\n",
      "TPU available: False, using: 0 TPU cores\n",
      "HPU available: False, using: 0 HPUs\n",
      "/home/martin/outlier-detection/.env/lib/python3.10/site-packages/pytorch_lightning/trainer/connectors/logger_connector/logger_connector.py:75: Starting from v1.9.0, `tensorboardX` has been removed as a dependency of the `pytorch_lightning` package, due to potential conflicts with other packages in the ML ecosystem. For this reason, `logger=True` will use `CSVLogger` as the default logger, unless the `tensorboard` or `tensorboardX` packages are found. Please `pip install lightning[extra]` or one of them to enable TensorBoard support by default\n",
      "You are using a CUDA device ('NVIDIA GeForce RTX 3060') that has Tensor Cores. To properly utilize them, you should set `torch.set_float32_matmul_precision('medium' | 'high')` which will trade-off precision for performance. For more details, read https://pytorch.org/docs/stable/generated/torch.set_float32_matmul_precision.html#torch.set_float32_matmul_precision\n",
      "LOCAL_RANK: 0 - CUDA_VISIBLE_DEVICES: [0]\n"
     ]
    },
    {
     "name": "stdout",
     "output_type": "stream",
     "text": [
      "Testing DataLoader 0: 100%|██████████| 188/188 [03:49<00:00,  0.82it/s]\n",
      "────────────────────────────────────────────────────────────────────────────────────────────────────────────────────────\n",
      "       Test metric             DataLoader 0\n",
      "────────────────────────────────────────────────────────────────────────────────────────────────────────────────────────\n",
      "         test_ap                    0.0\n",
      "       test_auroc                   0.0\n",
      "        test_loss           0.3855500817298889\n",
      "        test_miou           0.6364380121231079\n",
      "────────────────────────────────────────────────────────────────────────────────────────────────────────────────────────\n"
     ]
    },
    {
     "name": "stderr",
     "output_type": "stream",
     "text": [
      "/home/martin/outlier-detection/.env/lib/python3.10/site-packages/torchmetrics/utilities/prints.py:43: UserWarning: The ``compute`` method of metric MulticlassAUROC was called before the ``update`` method which may lead to errors, as metric states have not yet been updated.\n",
      "  warnings.warn(*args, **kwargs)  # noqa: B028\n",
      "/home/martin/outlier-detection/.env/lib/python3.10/site-packages/torchmetrics/utilities/prints.py:43: UserWarning: The ``compute`` method of metric MulticlassAveragePrecision was called before the ``update`` method which may lead to errors, as metric states have not yet been updated.\n",
      "  warnings.warn(*args, **kwargs)  # noqa: B028\n"
     ]
    }
   ],
   "source": [
    "tr = Trainer(default_root_dir=\"./test_sh\", accelerator=\"cuda\", max_epochs=100)\n",
    "\n",
    "out = tr.test(model=model, datamodule=dm)"
   ]
  }
 ],
 "metadata": {
  "kernelspec": {
   "display_name": "Python 3",
   "language": "python",
   "name": "python3"
  },
  "language_info": {
   "codemirror_mode": {
    "name": "ipython",
    "version": 3
   },
   "file_extension": ".py",
   "mimetype": "text/x-python",
   "name": "python",
   "nbconvert_exporter": "python",
   "pygments_lexer": "ipython3",
   "version": "3.10.12"
  }
 },
 "nbformat": 4,
 "nbformat_minor": 2
}
