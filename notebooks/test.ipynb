{
 "cells": [
  {
   "cell_type": "code",
   "execution_count": 1,
   "metadata": {},
   "outputs": [],
   "source": [
    "import os\n",
    "from typing import Tuple\n",
    "import numpy as np\n",
    "import torch\n",
    "from torch.utils.data import Dataset\n",
    "from torchvision.io.image import read_image\n",
    "from torchvision.transforms import v2\n",
    "import matplotlib.pyplot as plt\n",
    "from data.utils import walk_path"
   ]
  },
  {
   "cell_type": "code",
   "execution_count": 2,
   "metadata": {},
   "outputs": [],
   "source": [
    "from utils.helper_functions import StreetHazardsDataModule, ShiftSegmentationDataModule, ShiftOODDataModule, StreetHazardsOODDataModule\n",
    "from data.shift_dataset import LabelFilter, pedestrian_filter_10_15k, no_pedestrian_filter"
   ]
  },
  {
   "cell_type": "code",
   "execution_count": 3,
   "metadata": {},
   "outputs": [],
   "source": [
    "from pytorch_lightning import Trainer\n",
    "from pytorch_lightning.callbacks import ModelCheckpoint, LearningRateMonitor, TQDMProgressBar\n",
    "from nets.wrapper import Wrapper"
   ]
  },
  {
   "cell_type": "code",
   "execution_count": 20,
   "metadata": {},
   "outputs": [],
   "source": [
    "loaded = torch.load(\"test_shift_final/epoch=4-step=6835.ckpt\")"
   ]
  },
  {
   "cell_type": "code",
   "execution_count": 21,
   "metadata": {},
   "outputs": [],
   "source": [
    "with open(\"test_shift_final/shift_ood.ckpt\", \"wb\") as f:\n",
    "    torch.save(loaded[\"state_dict\"], f)"
   ]
  },
  {
   "cell_type": "code",
   "execution_count": 5,
   "metadata": {},
   "outputs": [
    {
     "data": {
      "text/plain": [
       "<All keys matched successfully>"
      ]
     },
     "execution_count": 5,
     "metadata": {},
     "output_type": "execute_result"
    }
   ],
   "source": [
    "model = Wrapper(\"resnet50\", 14)\n",
    "\n",
    "model.load_state_dict(state_dict=loaded)"
   ]
  },
  {
   "cell_type": "code",
   "execution_count": 5,
   "metadata": {},
   "outputs": [
    {
     "data": {
      "text/plain": [
       "<All keys matched successfully>"
      ]
     },
     "execution_count": 5,
     "metadata": {},
     "output_type": "execute_result"
    }
   ],
   "source": [
    "model = Wrapper(\"resnet50\", 14)\n",
    "loaded = torch.load(\"test_sh_final/epoch=4-step=1600.ckpt\")\n",
    "model.load_state_dict(state_dict=loaded[\"state_dict\"])"
   ]
  },
  {
   "cell_type": "code",
   "execution_count": 12,
   "metadata": {},
   "outputs": [],
   "source": [
    "def load_dataset(\n",
    "        dataset_name, dataset_dir=\"./datasets\",\n",
    "        horizon=0, alpha_blend=1, histogram_matching=False, blur=0):\n",
    "    if dataset_name == \"SHIFT\":\n",
    "        return ShiftOODDataModule(\n",
    "            os.path.join(dataset_dir, \"SHIFT\"), 512,\n",
    "            os.path.join(dataset_dir, \"COCO2014\"), 352, 8,\n",
    "            no_pedestrian_filter, pedestrian_filter_10_15k,\n",
    "            \"ood_pedestrian\",\n",
    "            horizon=horizon,\n",
    "            alpha_blend=alpha_blend,\n",
    "            histogram_matching=histogram_matching,\n",
    "            blur=blur,\n",
    "            num_workers=8, val_amount=.05\n",
    "        )\n",
    "    elif dataset_name == \"StreetHazards\":\n",
    "        return StreetHazardsOODDataModule(\n",
    "            os.path.join(dataset_dir, \"StreetHazards\"), 512,\n",
    "            os.path.join(dataset_dir, \"COCO2014\"), 352, 8,\n",
    "            \"normal\",\n",
    "            horizon=horizon,\n",
    "            alpha_blend=alpha_blend,\n",
    "            histogram_matching=histogram_matching,\n",
    "            blur=blur,\n",
    "            num_workers=8\n",
    "        )\n",
    "\n",
    "    return None"
   ]
  },
  {
   "cell_type": "code",
   "execution_count": 15,
   "metadata": {},
   "outputs": [],
   "source": [
    "dm = StreetHazardsDataModule(\n",
    "    \"./datasets/StreetHazards\", 512, 8, \"normal\", 8)\n",
    "\n",
    "# dm = ShiftSegmentationDataModule(\n",
    "#     \"./datasets/SHIFT\", 512, 4, LabelFilter(\"4\", -1, 0), LabelFilter(\"4\", -1, 0), \"ood_pedestrian\", 8, .05)\n",
    "\n",
    "# dm = load_dataset(\"StreetHazards\")"
   ]
  },
  {
   "cell_type": "code",
   "execution_count": 17,
   "metadata": {},
   "outputs": [
    {
     "name": "stderr",
     "output_type": "stream",
     "text": [
      "GPU available: True (cuda), used: True\n",
      "TPU available: False, using: 0 TPU cores\n",
      "HPU available: False, using: 0 HPUs\n",
      "LOCAL_RANK: 0 - CUDA_VISIBLE_DEVICES: [0]\n"
     ]
    },
    {
     "name": "stdout",
     "output_type": "stream",
     "text": [
      "Validation DataLoader 0: 100%|██████████| 129/129 [02:41<00:00,  0.80it/s]\n",
      "────────────────────────────────────────────────────────────────────────────────────────────────────────────────────────\n",
      "     Validate metric           DataLoader 0\n",
      "────────────────────────────────────────────────────────────────────────────────────────────────────────────────────────\n",
      "     val_loss_epoch         0.2900092303752899\n",
      "        val_miou            0.6959911584854126\n",
      "────────────────────────────────────────────────────────────────────────────────────────────────────────────────────────\n"
     ]
    }
   ],
   "source": [
    "tr = Trainer(default_root_dir=\"./test_sh\", accelerator=\"cuda\", max_epochs=100)\n",
    "\n",
    "out = tr.validate(model=model, datamodule=dm)"
   ]
  },
  {
   "cell_type": "code",
   "execution_count": null,
   "metadata": {},
   "outputs": [],
   "source": [
    "test_loss           0.2748246192932129\n",
    "test_miou           0.6247168779373169"
   ]
  }
 ],
 "metadata": {
  "kernelspec": {
   "display_name": "Python 3",
   "language": "python",
   "name": "python3"
  },
  "language_info": {
   "codemirror_mode": {
    "name": "ipython",
    "version": 3
   },
   "file_extension": ".py",
   "mimetype": "text/x-python",
   "name": "python",
   "nbconvert_exporter": "python",
   "pygments_lexer": "ipython3",
   "version": "3.10.12"
  }
 },
 "nbformat": 4,
 "nbformat_minor": 2
}
