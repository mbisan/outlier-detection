{
 "cells": [
  {
   "cell_type": "code",
   "execution_count": null,
   "metadata": {},
   "outputs": [],
   "source": [
    "import os\n",
    "from typing import Tuple\n",
    "import numpy as np\n",
    "import torch\n",
    "from torch.utils.data import Dataset\n",
    "from torchvision.io.image import read_image\n",
    "from torchvision.transforms import v2\n",
    "import matplotlib.pyplot as plt\n",
    "from data.utils import walk_path"
   ]
  },
  {
   "cell_type": "code",
   "execution_count": null,
   "metadata": {},
   "outputs": [],
   "source": [
    "from utils.helper_functions import load_shift_ood, load_shift_segmentation, load_streethazards_ood, load_streethazards_segmentation\n",
    "from data.shift_dataset import LabelFilter"
   ]
  },
  {
   "cell_type": "code",
   "execution_count": null,
   "metadata": {},
   "outputs": [],
   "source": [
    "# ds_train, ds_val, ds_test = load_shift_segmentation(\n",
    "#     \"./datasets/SHIFT\", 512, 4, LabelFilter(\"4\", -1, 0), LabelFilter(\"4\", -1, 0), \"ood_pedestrian\", 1, .05)"
   ]
  },
  {
   "cell_type": "code",
   "execution_count": null,
   "metadata": {},
   "outputs": [],
   "source": [
    "# ds_train, ds_val, ds_test = load_shift_ood(\n",
    "#     \"./datasets/SHIFT\", 512,\n",
    "#     \"./datasets/COCO2014\", 256, 4, LabelFilter(\"4\", -1, 0), LabelFilter(\"4\", 10000, 15000), \"ood_pedestrian\",\n",
    "#     .7, .9, True, 3, 1, .05)"
   ]
  },
  {
   "cell_type": "code",
   "execution_count": null,
   "metadata": {},
   "outputs": [],
   "source": [
    "# ds_train, ds_val, ds_test = load_streethazards_ood(\n",
    "#     \"./datasets/StreetHazards\", 512,\n",
    "#     \"./datasets/COCO2014\", 256, 4, \"normal\",\n",
    "#     .7, .9, True, 3, 1)"
   ]
  },
  {
   "cell_type": "code",
   "execution_count": null,
   "metadata": {},
   "outputs": [],
   "source": [
    "ds_train, ds_val, ds_test = load_streethazards_segmentation(\n",
    "    \"./datasets/StreetHazards\", 512, 16, \"normal\", 8)"
   ]
  },
  {
   "cell_type": "code",
   "execution_count": null,
   "metadata": {},
   "outputs": [],
   "source": [
    "from pytorch_lightning import Trainer\n",
    "from pytorch_lightning.callbacks import ModelCheckpoint, LearningRateMonitor, TQDMProgressBar\n",
    "from nets.wrapper import Wrapper"
   ]
  },
  {
   "cell_type": "code",
   "execution_count": null,
   "metadata": {},
   "outputs": [],
   "source": [
    "model = Wrapper(\"mobilenet\", 13, .001)"
   ]
  },
  {
   "cell_type": "code",
   "execution_count": null,
   "metadata": {},
   "outputs": [],
   "source": [
    "ckpt = ModelCheckpoint(\n",
    "        monitor=\"val_miou\",\n",
    "        mode=\"max\",\n",
    "        save_top_k=2,\n",
    "        filename='{epoch}-{step}-{val_miou:.4f}'\n",
    "    )"
   ]
  },
  {
   "cell_type": "code",
   "execution_count": null,
   "metadata": {},
   "outputs": [],
   "source": [
    "tr = Trainer(default_root_dir=\"./test\", accelerator=\"cuda\", callbacks=[ckpt, LearningRateMonitor(logging_interval=\"epoch\"),\n",
    "        TQDMProgressBar(refresh_rate=5)], max_epochs=2)"
   ]
  },
  {
   "cell_type": "code",
   "execution_count": null,
   "metadata": {},
   "outputs": [],
   "source": [
    "tr.fit(model=model, train_dataloaders=ds_train, val_dataloaders=ds_val)"
   ]
  }
 ],
 "metadata": {
  "kernelspec": {
   "display_name": "Python 3",
   "language": "python",
   "name": "python3"
  },
  "language_info": {
   "codemirror_mode": {
    "name": "ipython",
    "version": 3
   },
   "file_extension": ".py",
   "mimetype": "text/x-python",
   "name": "python",
   "nbconvert_exporter": "python",
   "pygments_lexer": "ipython3",
   "version": "3.10.14"
  }
 },
 "nbformat": 4,
 "nbformat_minor": 2
}
